{
 "cells": [
  {
   "cell_type": "code",
   "execution_count": 1,
   "id": "45f74376",
   "metadata": {
    "execution": {
     "iopub.execute_input": "2023-05-22T16:29:20.328121Z",
     "iopub.status.busy": "2023-05-22T16:29:20.327641Z",
     "iopub.status.idle": "2023-05-22T16:29:21.447187Z",
     "shell.execute_reply": "2023-05-22T16:29:21.446149Z"
    },
    "papermill": {
     "duration": 1.155262,
     "end_time": "2023-05-22T16:29:21.450019",
     "exception": false,
     "start_time": "2023-05-22T16:29:20.294757",
     "status": "completed"
    },
    "tags": []
   },
   "outputs": [
    {
     "data": {
      "text/html": [
       "<div>\n",
       "<style scoped>\n",
       "    .dataframe tbody tr th:only-of-type {\n",
       "        vertical-align: middle;\n",
       "    }\n",
       "\n",
       "    .dataframe tbody tr th {\n",
       "        vertical-align: top;\n",
       "    }\n",
       "\n",
       "    .dataframe thead th {\n",
       "        text-align: right;\n",
       "    }\n",
       "</style>\n",
       "<table border=\"1\" class=\"dataframe\">\n",
       "  <thead>\n",
       "    <tr style=\"text-align: right;\">\n",
       "      <th></th>\n",
       "      <th>HeartDisease</th>\n",
       "      <th>BMI</th>\n",
       "      <th>Smoking</th>\n",
       "      <th>AlcoholDrinking</th>\n",
       "      <th>Stroke</th>\n",
       "      <th>PhysicalHealth</th>\n",
       "      <th>MentalHealth</th>\n",
       "      <th>DiffWalking</th>\n",
       "      <th>Sex</th>\n",
       "      <th>AgeCategory</th>\n",
       "      <th>Race</th>\n",
       "      <th>Diabetic</th>\n",
       "      <th>PhysicalActivity</th>\n",
       "      <th>GenHealth</th>\n",
       "      <th>SleepTime</th>\n",
       "      <th>Asthma</th>\n",
       "      <th>KidneyDisease</th>\n",
       "      <th>SkinCancer</th>\n",
       "    </tr>\n",
       "  </thead>\n",
       "  <tbody>\n",
       "    <tr>\n",
       "      <th>0</th>\n",
       "      <td>No</td>\n",
       "      <td>16.60</td>\n",
       "      <td>Yes</td>\n",
       "      <td>No</td>\n",
       "      <td>No</td>\n",
       "      <td>3.0</td>\n",
       "      <td>30.0</td>\n",
       "      <td>No</td>\n",
       "      <td>Female</td>\n",
       "      <td>55-59</td>\n",
       "      <td>White</td>\n",
       "      <td>Yes</td>\n",
       "      <td>Yes</td>\n",
       "      <td>Very good</td>\n",
       "      <td>5.0</td>\n",
       "      <td>Yes</td>\n",
       "      <td>No</td>\n",
       "      <td>Yes</td>\n",
       "    </tr>\n",
       "    <tr>\n",
       "      <th>1</th>\n",
       "      <td>No</td>\n",
       "      <td>20.34</td>\n",
       "      <td>No</td>\n",
       "      <td>No</td>\n",
       "      <td>Yes</td>\n",
       "      <td>0.0</td>\n",
       "      <td>0.0</td>\n",
       "      <td>No</td>\n",
       "      <td>Female</td>\n",
       "      <td>80 or older</td>\n",
       "      <td>White</td>\n",
       "      <td>No</td>\n",
       "      <td>Yes</td>\n",
       "      <td>Very good</td>\n",
       "      <td>7.0</td>\n",
       "      <td>No</td>\n",
       "      <td>No</td>\n",
       "      <td>No</td>\n",
       "    </tr>\n",
       "    <tr>\n",
       "      <th>2</th>\n",
       "      <td>No</td>\n",
       "      <td>26.58</td>\n",
       "      <td>Yes</td>\n",
       "      <td>No</td>\n",
       "      <td>No</td>\n",
       "      <td>20.0</td>\n",
       "      <td>30.0</td>\n",
       "      <td>No</td>\n",
       "      <td>Male</td>\n",
       "      <td>65-69</td>\n",
       "      <td>White</td>\n",
       "      <td>Yes</td>\n",
       "      <td>Yes</td>\n",
       "      <td>Fair</td>\n",
       "      <td>8.0</td>\n",
       "      <td>Yes</td>\n",
       "      <td>No</td>\n",
       "      <td>No</td>\n",
       "    </tr>\n",
       "    <tr>\n",
       "      <th>3</th>\n",
       "      <td>No</td>\n",
       "      <td>24.21</td>\n",
       "      <td>No</td>\n",
       "      <td>No</td>\n",
       "      <td>No</td>\n",
       "      <td>0.0</td>\n",
       "      <td>0.0</td>\n",
       "      <td>No</td>\n",
       "      <td>Female</td>\n",
       "      <td>75-79</td>\n",
       "      <td>White</td>\n",
       "      <td>No</td>\n",
       "      <td>No</td>\n",
       "      <td>Good</td>\n",
       "      <td>6.0</td>\n",
       "      <td>No</td>\n",
       "      <td>No</td>\n",
       "      <td>Yes</td>\n",
       "    </tr>\n",
       "    <tr>\n",
       "      <th>4</th>\n",
       "      <td>No</td>\n",
       "      <td>23.71</td>\n",
       "      <td>No</td>\n",
       "      <td>No</td>\n",
       "      <td>No</td>\n",
       "      <td>28.0</td>\n",
       "      <td>0.0</td>\n",
       "      <td>Yes</td>\n",
       "      <td>Female</td>\n",
       "      <td>40-44</td>\n",
       "      <td>White</td>\n",
       "      <td>No</td>\n",
       "      <td>Yes</td>\n",
       "      <td>Very good</td>\n",
       "      <td>8.0</td>\n",
       "      <td>No</td>\n",
       "      <td>No</td>\n",
       "      <td>No</td>\n",
       "    </tr>\n",
       "    <tr>\n",
       "      <th>...</th>\n",
       "      <td>...</td>\n",
       "      <td>...</td>\n",
       "      <td>...</td>\n",
       "      <td>...</td>\n",
       "      <td>...</td>\n",
       "      <td>...</td>\n",
       "      <td>...</td>\n",
       "      <td>...</td>\n",
       "      <td>...</td>\n",
       "      <td>...</td>\n",
       "      <td>...</td>\n",
       "      <td>...</td>\n",
       "      <td>...</td>\n",
       "      <td>...</td>\n",
       "      <td>...</td>\n",
       "      <td>...</td>\n",
       "      <td>...</td>\n",
       "      <td>...</td>\n",
       "    </tr>\n",
       "    <tr>\n",
       "      <th>319790</th>\n",
       "      <td>Yes</td>\n",
       "      <td>27.41</td>\n",
       "      <td>Yes</td>\n",
       "      <td>No</td>\n",
       "      <td>No</td>\n",
       "      <td>7.0</td>\n",
       "      <td>0.0</td>\n",
       "      <td>Yes</td>\n",
       "      <td>Male</td>\n",
       "      <td>60-64</td>\n",
       "      <td>Hispanic</td>\n",
       "      <td>Yes</td>\n",
       "      <td>No</td>\n",
       "      <td>Fair</td>\n",
       "      <td>6.0</td>\n",
       "      <td>Yes</td>\n",
       "      <td>No</td>\n",
       "      <td>No</td>\n",
       "    </tr>\n",
       "    <tr>\n",
       "      <th>319791</th>\n",
       "      <td>No</td>\n",
       "      <td>29.84</td>\n",
       "      <td>Yes</td>\n",
       "      <td>No</td>\n",
       "      <td>No</td>\n",
       "      <td>0.0</td>\n",
       "      <td>0.0</td>\n",
       "      <td>No</td>\n",
       "      <td>Male</td>\n",
       "      <td>35-39</td>\n",
       "      <td>Hispanic</td>\n",
       "      <td>No</td>\n",
       "      <td>Yes</td>\n",
       "      <td>Very good</td>\n",
       "      <td>5.0</td>\n",
       "      <td>Yes</td>\n",
       "      <td>No</td>\n",
       "      <td>No</td>\n",
       "    </tr>\n",
       "    <tr>\n",
       "      <th>319792</th>\n",
       "      <td>No</td>\n",
       "      <td>24.24</td>\n",
       "      <td>No</td>\n",
       "      <td>No</td>\n",
       "      <td>No</td>\n",
       "      <td>0.0</td>\n",
       "      <td>0.0</td>\n",
       "      <td>No</td>\n",
       "      <td>Female</td>\n",
       "      <td>45-49</td>\n",
       "      <td>Hispanic</td>\n",
       "      <td>No</td>\n",
       "      <td>Yes</td>\n",
       "      <td>Good</td>\n",
       "      <td>6.0</td>\n",
       "      <td>No</td>\n",
       "      <td>No</td>\n",
       "      <td>No</td>\n",
       "    </tr>\n",
       "    <tr>\n",
       "      <th>319793</th>\n",
       "      <td>No</td>\n",
       "      <td>32.81</td>\n",
       "      <td>No</td>\n",
       "      <td>No</td>\n",
       "      <td>No</td>\n",
       "      <td>0.0</td>\n",
       "      <td>0.0</td>\n",
       "      <td>No</td>\n",
       "      <td>Female</td>\n",
       "      <td>25-29</td>\n",
       "      <td>Hispanic</td>\n",
       "      <td>No</td>\n",
       "      <td>No</td>\n",
       "      <td>Good</td>\n",
       "      <td>12.0</td>\n",
       "      <td>No</td>\n",
       "      <td>No</td>\n",
       "      <td>No</td>\n",
       "    </tr>\n",
       "    <tr>\n",
       "      <th>319794</th>\n",
       "      <td>No</td>\n",
       "      <td>46.56</td>\n",
       "      <td>No</td>\n",
       "      <td>No</td>\n",
       "      <td>No</td>\n",
       "      <td>0.0</td>\n",
       "      <td>0.0</td>\n",
       "      <td>No</td>\n",
       "      <td>Female</td>\n",
       "      <td>80 or older</td>\n",
       "      <td>Hispanic</td>\n",
       "      <td>No</td>\n",
       "      <td>Yes</td>\n",
       "      <td>Good</td>\n",
       "      <td>8.0</td>\n",
       "      <td>No</td>\n",
       "      <td>No</td>\n",
       "      <td>No</td>\n",
       "    </tr>\n",
       "  </tbody>\n",
       "</table>\n",
       "<p>319795 rows × 18 columns</p>\n",
       "</div>"
      ],
      "text/plain": [
       "       HeartDisease    BMI Smoking AlcoholDrinking Stroke  PhysicalHealth  \\\n",
       "0                No  16.60     Yes              No     No             3.0   \n",
       "1                No  20.34      No              No    Yes             0.0   \n",
       "2                No  26.58     Yes              No     No            20.0   \n",
       "3                No  24.21      No              No     No             0.0   \n",
       "4                No  23.71      No              No     No            28.0   \n",
       "...             ...    ...     ...             ...    ...             ...   \n",
       "319790          Yes  27.41     Yes              No     No             7.0   \n",
       "319791           No  29.84     Yes              No     No             0.0   \n",
       "319792           No  24.24      No              No     No             0.0   \n",
       "319793           No  32.81      No              No     No             0.0   \n",
       "319794           No  46.56      No              No     No             0.0   \n",
       "\n",
       "        MentalHealth DiffWalking     Sex  AgeCategory      Race Diabetic  \\\n",
       "0               30.0          No  Female        55-59     White      Yes   \n",
       "1                0.0          No  Female  80 or older     White       No   \n",
       "2               30.0          No    Male        65-69     White      Yes   \n",
       "3                0.0          No  Female        75-79     White       No   \n",
       "4                0.0         Yes  Female        40-44     White       No   \n",
       "...              ...         ...     ...          ...       ...      ...   \n",
       "319790           0.0         Yes    Male        60-64  Hispanic      Yes   \n",
       "319791           0.0          No    Male        35-39  Hispanic       No   \n",
       "319792           0.0          No  Female        45-49  Hispanic       No   \n",
       "319793           0.0          No  Female        25-29  Hispanic       No   \n",
       "319794           0.0          No  Female  80 or older  Hispanic       No   \n",
       "\n",
       "       PhysicalActivity  GenHealth  SleepTime Asthma KidneyDisease SkinCancer  \n",
       "0                   Yes  Very good        5.0    Yes            No        Yes  \n",
       "1                   Yes  Very good        7.0     No            No         No  \n",
       "2                   Yes       Fair        8.0    Yes            No         No  \n",
       "3                    No       Good        6.0     No            No        Yes  \n",
       "4                   Yes  Very good        8.0     No            No         No  \n",
       "...                 ...        ...        ...    ...           ...        ...  \n",
       "319790               No       Fair        6.0    Yes            No         No  \n",
       "319791              Yes  Very good        5.0    Yes            No         No  \n",
       "319792              Yes       Good        6.0     No            No         No  \n",
       "319793               No       Good       12.0     No            No         No  \n",
       "319794              Yes       Good        8.0     No            No         No  \n",
       "\n",
       "[319795 rows x 18 columns]"
      ]
     },
     "metadata": {},
     "output_type": "display_data"
    }
   ],
   "source": [
    "\n",
    "import numpy as np \n",
    "import pandas as pd \n",
    "\n",
    "df=pd.read_csv('./heart_2020_cleaned.csv')\n",
    "df_org = df.copy() \n",
    "display(df)"
   ]
  },
  {
   "cell_type": "code",
   "execution_count": 2,
   "id": "fd5c6a04",
   "metadata": {
    "execution": {
     "iopub.execute_input": "2023-05-22T16:29:22.144911Z",
     "iopub.status.busy": "2023-05-22T16:29:22.143737Z",
     "iopub.status.idle": "2023-05-22T16:29:22.156555Z",
     "shell.execute_reply": "2023-05-22T16:29:22.155497Z"
    },
    "papermill": {
     "duration": 0.047976,
     "end_time": "2023-05-22T16:29:22.158908",
     "exception": false,
     "start_time": "2023-05-22T16:29:22.110932",
     "status": "completed"
    },
    "tags": []
   },
   "outputs": [
    {
     "data": {
      "text/plain": [
       "Index(['BMI', 'PhysicalHealth', 'MentalHealth', 'SleepTime'], dtype='object')"
      ]
     },
     "execution_count": 2,
     "metadata": {},
     "output_type": "execute_result"
    }
   ],
   "source": [
    "numeric_features = df.select_dtypes(include=[np.number])\n",
    "numeric_features.columns"
   ]
  },
  {
   "cell_type": "code",
   "execution_count": 3,
   "id": "9d6bd8c4",
   "metadata": {
    "execution": {
     "iopub.execute_input": "2023-05-22T16:29:22.224088Z",
     "iopub.status.busy": "2023-05-22T16:29:22.223043Z",
     "iopub.status.idle": "2023-05-22T16:29:22.277057Z",
     "shell.execute_reply": "2023-05-22T16:29:22.275854Z"
    },
    "papermill": {
     "duration": 0.089563,
     "end_time": "2023-05-22T16:29:22.280053",
     "exception": false,
     "start_time": "2023-05-22T16:29:22.190490",
     "status": "completed"
    },
    "tags": []
   },
   "outputs": [
    {
     "data": {
      "text/plain": [
       "Index(['HeartDisease', 'Smoking', 'AlcoholDrinking', 'Stroke', 'DiffWalking',\n",
       "       'Sex', 'AgeCategory', 'Race', 'Diabetic', 'PhysicalActivity',\n",
       "       'GenHealth', 'Asthma', 'KidneyDisease', 'SkinCancer'],\n",
       "      dtype='object')"
      ]
     },
     "execution_count": 3,
     "metadata": {},
     "output_type": "execute_result"
    }
   ],
   "source": [
    "categorical_features = df.select_dtypes(include=[object])\n",
    "categorical_features.columns"
   ]
  },
  {
   "cell_type": "code",
   "execution_count": 4,
   "id": "e3919f41",
   "metadata": {
    "execution": {
     "iopub.execute_input": "2023-05-22T16:29:22.411596Z",
     "iopub.status.busy": "2023-05-22T16:29:22.410438Z",
     "iopub.status.idle": "2023-05-22T16:29:22.670827Z",
     "shell.execute_reply": "2023-05-22T16:29:22.669809Z"
    },
    "papermill": {
     "duration": 0.296546,
     "end_time": "2023-05-22T16:29:22.673362",
     "exception": false,
     "start_time": "2023-05-22T16:29:22.376816",
     "status": "completed"
    },
    "tags": []
   },
   "outputs": [
    {
     "data": {
      "text/plain": [
       "0         57\n",
       "1         80\n",
       "2         67\n",
       "3         77\n",
       "4         42\n",
       "          ..\n",
       "319790    62\n",
       "319791    37\n",
       "319792    47\n",
       "319793    27\n",
       "319794    80\n",
       "Name: AgeCategory, Length: 319795, dtype: int64"
      ]
     },
     "execution_count": 4,
     "metadata": {},
     "output_type": "execute_result"
    }
   ],
   "source": [
    "# encode 'AgeCategory' column\n",
    "encode_AgeCategory = {'55-59':57, '80 or older':80, '65-69':67,\n",
    "                      '75-79':77,'40-44':42,'70-74':72,'60-64':62,\n",
    "                      '50-54':52,'45-49':47,'18-24':21,'35-39':37,\n",
    "                      '30-34':32,'25-29':27}\n",
    "df['AgeCategory'] = df['AgeCategory'].apply(lambda x: encode_AgeCategory[x])\n",
    "df['AgeCategory'] = df['AgeCategory'].astype(int)\n",
    "df['AgeCategory']"
   ]
  },
  {
   "cell_type": "code",
   "execution_count": 5,
   "id": "f109a2f0",
   "metadata": {
    "execution": {
     "iopub.execute_input": "2023-05-22T16:29:22.738809Z",
     "iopub.status.busy": "2023-05-22T16:29:22.738432Z",
     "iopub.status.idle": "2023-05-22T16:29:22.887720Z",
     "shell.execute_reply": "2023-05-22T16:29:22.886148Z"
    },
    "papermill": {
     "duration": 0.185955,
     "end_time": "2023-05-22T16:29:22.891483",
     "exception": false,
     "start_time": "2023-05-22T16:29:22.705528",
     "status": "completed"
    },
    "tags": []
   },
   "outputs": [
    {
     "data": {
      "text/html": [
       "<style type=\"text/css\">\n",
       "#T_e0e60_row0_col0, #T_e0e60_row0_col2, #T_e0e60_row0_col3, #T_e0e60_row0_col4, #T_e0e60_row0_col5, #T_e0e60_row0_col6, #T_e0e60_row1_col1, #T_e0e60_row2_col1 {\n",
       "  background-color: #08306b;\n",
       "  color: #f1f1f1;\n",
       "}\n",
       "#T_e0e60_row0_col1 {\n",
       "  background-color: #206fb4;\n",
       "  color: #f1f1f1;\n",
       "}\n",
       "#T_e0e60_row1_col0, #T_e0e60_row1_col2, #T_e0e60_row1_col3, #T_e0e60_row1_col4, #T_e0e60_row1_col5, #T_e0e60_row2_col2, #T_e0e60_row2_col3, #T_e0e60_row2_col4, #T_e0e60_row3_col1, #T_e0e60_row3_col6 {\n",
       "  background-color: #f7fbff;\n",
       "  color: #000000;\n",
       "}\n",
       "#T_e0e60_row1_col6, #T_e0e60_row2_col6, #T_e0e60_row3_col2 {\n",
       "  background-color: #e7f0fa;\n",
       "  color: #000000;\n",
       "}\n",
       "#T_e0e60_row2_col0 {\n",
       "  background-color: #f3f8fe;\n",
       "  color: #000000;\n",
       "}\n",
       "#T_e0e60_row2_col5 {\n",
       "  background-color: #f1f7fd;\n",
       "  color: #000000;\n",
       "}\n",
       "#T_e0e60_row3_col0 {\n",
       "  background-color: #d9e8f5;\n",
       "  color: #000000;\n",
       "}\n",
       "#T_e0e60_row3_col3 {\n",
       "  background-color: #c7dbef;\n",
       "  color: #000000;\n",
       "}\n",
       "#T_e0e60_row3_col4 {\n",
       "  background-color: #c4daee;\n",
       "  color: #000000;\n",
       "}\n",
       "#T_e0e60_row3_col5 {\n",
       "  background-color: #cfe1f2;\n",
       "  color: #000000;\n",
       "}\n",
       "</style>\n",
       "<table id=\"T_e0e60\">\n",
       "  <thead>\n",
       "    <tr>\n",
       "      <th class=\"blank level0\" >&nbsp;</th>\n",
       "      <th id=\"T_e0e60_level0_col0\" class=\"col_heading level0 col0\" >mean</th>\n",
       "      <th id=\"T_e0e60_level0_col1\" class=\"col_heading level0 col1\" >std</th>\n",
       "      <th id=\"T_e0e60_level0_col2\" class=\"col_heading level0 col2\" >min</th>\n",
       "      <th id=\"T_e0e60_level0_col3\" class=\"col_heading level0 col3\" >25%</th>\n",
       "      <th id=\"T_e0e60_level0_col4\" class=\"col_heading level0 col4\" >50%</th>\n",
       "      <th id=\"T_e0e60_level0_col5\" class=\"col_heading level0 col5\" >75%</th>\n",
       "      <th id=\"T_e0e60_level0_col6\" class=\"col_heading level0 col6\" >max</th>\n",
       "    </tr>\n",
       "  </thead>\n",
       "  <tbody>\n",
       "    <tr>\n",
       "      <th id=\"T_e0e60_level0_row0\" class=\"row_heading level0 row0\" >BMI</th>\n",
       "      <td id=\"T_e0e60_row0_col0\" class=\"data row0 col0\" >28.325399</td>\n",
       "      <td id=\"T_e0e60_row0_col1\" class=\"data row0 col1\" >6.356100</td>\n",
       "      <td id=\"T_e0e60_row0_col2\" class=\"data row0 col2\" >12.020000</td>\n",
       "      <td id=\"T_e0e60_row0_col3\" class=\"data row0 col3\" >24.030000</td>\n",
       "      <td id=\"T_e0e60_row0_col4\" class=\"data row0 col4\" >27.340000</td>\n",
       "      <td id=\"T_e0e60_row0_col5\" class=\"data row0 col5\" >31.420000</td>\n",
       "      <td id=\"T_e0e60_row0_col6\" class=\"data row0 col6\" >94.850000</td>\n",
       "    </tr>\n",
       "    <tr>\n",
       "      <th id=\"T_e0e60_level0_row1\" class=\"row_heading level0 row1\" >PhysicalHealth</th>\n",
       "      <td id=\"T_e0e60_row1_col0\" class=\"data row1 col0\" >3.371710</td>\n",
       "      <td id=\"T_e0e60_row1_col1\" class=\"data row1 col1\" >7.950850</td>\n",
       "      <td id=\"T_e0e60_row1_col2\" class=\"data row1 col2\" >0.000000</td>\n",
       "      <td id=\"T_e0e60_row1_col3\" class=\"data row1 col3\" >0.000000</td>\n",
       "      <td id=\"T_e0e60_row1_col4\" class=\"data row1 col4\" >0.000000</td>\n",
       "      <td id=\"T_e0e60_row1_col5\" class=\"data row1 col5\" >2.000000</td>\n",
       "      <td id=\"T_e0e60_row1_col6\" class=\"data row1 col6\" >30.000000</td>\n",
       "    </tr>\n",
       "    <tr>\n",
       "      <th id=\"T_e0e60_level0_row2\" class=\"row_heading level0 row2\" >MentalHealth</th>\n",
       "      <td id=\"T_e0e60_row2_col0\" class=\"data row2 col0\" >3.898366</td>\n",
       "      <td id=\"T_e0e60_row2_col1\" class=\"data row2 col1\" >7.955235</td>\n",
       "      <td id=\"T_e0e60_row2_col2\" class=\"data row2 col2\" >0.000000</td>\n",
       "      <td id=\"T_e0e60_row2_col3\" class=\"data row2 col3\" >0.000000</td>\n",
       "      <td id=\"T_e0e60_row2_col4\" class=\"data row2 col4\" >0.000000</td>\n",
       "      <td id=\"T_e0e60_row2_col5\" class=\"data row2 col5\" >3.000000</td>\n",
       "      <td id=\"T_e0e60_row2_col6\" class=\"data row2 col6\" >30.000000</td>\n",
       "    </tr>\n",
       "    <tr>\n",
       "      <th id=\"T_e0e60_level0_row3\" class=\"row_heading level0 row3\" >SleepTime</th>\n",
       "      <td id=\"T_e0e60_row3_col0\" class=\"data row3 col0\" >7.097075</td>\n",
       "      <td id=\"T_e0e60_row3_col1\" class=\"data row3 col1\" >1.436007</td>\n",
       "      <td id=\"T_e0e60_row3_col2\" class=\"data row3 col2\" >1.000000</td>\n",
       "      <td id=\"T_e0e60_row3_col3\" class=\"data row3 col3\" >6.000000</td>\n",
       "      <td id=\"T_e0e60_row3_col4\" class=\"data row3 col4\" >7.000000</td>\n",
       "      <td id=\"T_e0e60_row3_col5\" class=\"data row3 col5\" >8.000000</td>\n",
       "      <td id=\"T_e0e60_row3_col6\" class=\"data row3 col6\" >24.000000</td>\n",
       "    </tr>\n",
       "  </tbody>\n",
       "</table>\n"
      ],
      "text/plain": [
       "<pandas.io.formats.style.Styler at 0x149ca8a10>"
      ]
     },
     "execution_count": 5,
     "metadata": {},
     "output_type": "execute_result"
    }
   ],
   "source": [
    "df.describe()[1:][list(numeric_features)].T.style.background_gradient(cmap='Blues')"
   ]
  },
  {
   "cell_type": "markdown",
   "id": "6b76c032",
   "metadata": {
    "papermill": {
     "duration": 0.039569,
     "end_time": "2023-05-22T16:29:50.848541",
     "exception": false,
     "start_time": "2023-05-22T16:29:50.808972",
     "status": "completed"
    },
    "tags": []
   },
   "source": [
    "<hr>"
   ]
  },
  {
   "cell_type": "code",
   "execution_count": 6,
   "id": "8cbdd4ed",
   "metadata": {
    "execution": {
     "iopub.execute_input": "2023-05-22T16:29:51.011870Z",
     "iopub.status.busy": "2023-05-22T16:29:51.011503Z",
     "iopub.status.idle": "2023-05-22T16:29:52.018185Z",
     "shell.execute_reply": "2023-05-22T16:29:52.017168Z"
    },
    "papermill": {
     "duration": 1.049781,
     "end_time": "2023-05-22T16:29:52.020722",
     "exception": false,
     "start_time": "2023-05-22T16:29:50.970941",
     "status": "completed"
    },
    "tags": []
   },
   "outputs": [
    {
     "data": {
      "text/html": [
       "<div>\n",
       "<style scoped>\n",
       "    .dataframe tbody tr th:only-of-type {\n",
       "        vertical-align: middle;\n",
       "    }\n",
       "\n",
       "    .dataframe tbody tr th {\n",
       "        vertical-align: top;\n",
       "    }\n",
       "\n",
       "    .dataframe thead th {\n",
       "        text-align: right;\n",
       "    }\n",
       "</style>\n",
       "<table border=\"1\" class=\"dataframe\">\n",
       "  <thead>\n",
       "    <tr style=\"text-align: right;\">\n",
       "      <th></th>\n",
       "      <th>HeartDisease</th>\n",
       "      <th>BMI</th>\n",
       "      <th>PhysicalHealth</th>\n",
       "      <th>MentalHealth</th>\n",
       "      <th>SleepTime</th>\n",
       "      <th>Smoking_No</th>\n",
       "      <th>Smoking_Yes</th>\n",
       "      <th>AlcoholDrinking_No</th>\n",
       "      <th>AlcoholDrinking_Yes</th>\n",
       "      <th>Stroke_No</th>\n",
       "      <th>...</th>\n",
       "      <th>GenHealth_Fair</th>\n",
       "      <th>GenHealth_Good</th>\n",
       "      <th>GenHealth_Poor</th>\n",
       "      <th>GenHealth_Very good</th>\n",
       "      <th>Asthma_No</th>\n",
       "      <th>Asthma_Yes</th>\n",
       "      <th>KidneyDisease_No</th>\n",
       "      <th>KidneyDisease_Yes</th>\n",
       "      <th>SkinCancer_No</th>\n",
       "      <th>SkinCancer_Yes</th>\n",
       "    </tr>\n",
       "  </thead>\n",
       "  <tbody>\n",
       "    <tr>\n",
       "      <th>0</th>\n",
       "      <td>0</td>\n",
       "      <td>16.60</td>\n",
       "      <td>3.0</td>\n",
       "      <td>30.0</td>\n",
       "      <td>5.0</td>\n",
       "      <td>False</td>\n",
       "      <td>True</td>\n",
       "      <td>True</td>\n",
       "      <td>False</td>\n",
       "      <td>True</td>\n",
       "      <td>...</td>\n",
       "      <td>False</td>\n",
       "      <td>False</td>\n",
       "      <td>False</td>\n",
       "      <td>True</td>\n",
       "      <td>False</td>\n",
       "      <td>True</td>\n",
       "      <td>True</td>\n",
       "      <td>False</td>\n",
       "      <td>False</td>\n",
       "      <td>True</td>\n",
       "    </tr>\n",
       "    <tr>\n",
       "      <th>1</th>\n",
       "      <td>0</td>\n",
       "      <td>20.34</td>\n",
       "      <td>0.0</td>\n",
       "      <td>0.0</td>\n",
       "      <td>7.0</td>\n",
       "      <td>True</td>\n",
       "      <td>False</td>\n",
       "      <td>True</td>\n",
       "      <td>False</td>\n",
       "      <td>False</td>\n",
       "      <td>...</td>\n",
       "      <td>False</td>\n",
       "      <td>False</td>\n",
       "      <td>False</td>\n",
       "      <td>True</td>\n",
       "      <td>True</td>\n",
       "      <td>False</td>\n",
       "      <td>True</td>\n",
       "      <td>False</td>\n",
       "      <td>True</td>\n",
       "      <td>False</td>\n",
       "    </tr>\n",
       "    <tr>\n",
       "      <th>2</th>\n",
       "      <td>0</td>\n",
       "      <td>26.58</td>\n",
       "      <td>20.0</td>\n",
       "      <td>30.0</td>\n",
       "      <td>8.0</td>\n",
       "      <td>False</td>\n",
       "      <td>True</td>\n",
       "      <td>True</td>\n",
       "      <td>False</td>\n",
       "      <td>True</td>\n",
       "      <td>...</td>\n",
       "      <td>True</td>\n",
       "      <td>False</td>\n",
       "      <td>False</td>\n",
       "      <td>False</td>\n",
       "      <td>False</td>\n",
       "      <td>True</td>\n",
       "      <td>True</td>\n",
       "      <td>False</td>\n",
       "      <td>True</td>\n",
       "      <td>False</td>\n",
       "    </tr>\n",
       "    <tr>\n",
       "      <th>3</th>\n",
       "      <td>0</td>\n",
       "      <td>24.21</td>\n",
       "      <td>0.0</td>\n",
       "      <td>0.0</td>\n",
       "      <td>6.0</td>\n",
       "      <td>True</td>\n",
       "      <td>False</td>\n",
       "      <td>True</td>\n",
       "      <td>False</td>\n",
       "      <td>True</td>\n",
       "      <td>...</td>\n",
       "      <td>False</td>\n",
       "      <td>True</td>\n",
       "      <td>False</td>\n",
       "      <td>False</td>\n",
       "      <td>True</td>\n",
       "      <td>False</td>\n",
       "      <td>True</td>\n",
       "      <td>False</td>\n",
       "      <td>False</td>\n",
       "      <td>True</td>\n",
       "    </tr>\n",
       "    <tr>\n",
       "      <th>4</th>\n",
       "      <td>0</td>\n",
       "      <td>23.71</td>\n",
       "      <td>28.0</td>\n",
       "      <td>0.0</td>\n",
       "      <td>8.0</td>\n",
       "      <td>True</td>\n",
       "      <td>False</td>\n",
       "      <td>True</td>\n",
       "      <td>False</td>\n",
       "      <td>True</td>\n",
       "      <td>...</td>\n",
       "      <td>False</td>\n",
       "      <td>False</td>\n",
       "      <td>False</td>\n",
       "      <td>True</td>\n",
       "      <td>True</td>\n",
       "      <td>False</td>\n",
       "      <td>True</td>\n",
       "      <td>False</td>\n",
       "      <td>True</td>\n",
       "      <td>False</td>\n",
       "    </tr>\n",
       "  </tbody>\n",
       "</table>\n",
       "<p>5 rows × 51 columns</p>\n",
       "</div>"
      ],
      "text/plain": [
       "   HeartDisease    BMI  PhysicalHealth  MentalHealth  SleepTime  Smoking_No  \\\n",
       "0             0  16.60             3.0          30.0        5.0       False   \n",
       "1             0  20.34             0.0           0.0        7.0        True   \n",
       "2             0  26.58            20.0          30.0        8.0       False   \n",
       "3             0  24.21             0.0           0.0        6.0        True   \n",
       "4             0  23.71            28.0           0.0        8.0        True   \n",
       "\n",
       "   Smoking_Yes  AlcoholDrinking_No  AlcoholDrinking_Yes  Stroke_No  ...  \\\n",
       "0         True                True                False       True  ...   \n",
       "1        False                True                False      False  ...   \n",
       "2         True                True                False       True  ...   \n",
       "3        False                True                False       True  ...   \n",
       "4        False                True                False       True  ...   \n",
       "\n",
       "   GenHealth_Fair  GenHealth_Good  GenHealth_Poor  GenHealth_Very good  \\\n",
       "0           False           False           False                 True   \n",
       "1           False           False           False                 True   \n",
       "2            True           False           False                False   \n",
       "3           False            True           False                False   \n",
       "4           False           False           False                 True   \n",
       "\n",
       "   Asthma_No  Asthma_Yes  KidneyDisease_No  KidneyDisease_Yes  SkinCancer_No  \\\n",
       "0      False        True              True              False          False   \n",
       "1       True       False              True              False           True   \n",
       "2      False        True              True              False           True   \n",
       "3       True       False              True              False          False   \n",
       "4       True       False              True              False           True   \n",
       "\n",
       "   SkinCancer_Yes  \n",
       "0            True  \n",
       "1           False  \n",
       "2           False  \n",
       "3            True  \n",
       "4           False  \n",
       "\n",
       "[5 rows x 51 columns]"
      ]
     },
     "execution_count": 6,
     "metadata": {},
     "output_type": "execute_result"
    }
   ],
   "source": [
    "columns_df = list(df.columns.values)\n",
    "from sklearn.preprocessing import LabelEncoder\n",
    "\n",
    "cat_cols = [\"Smoking\", \"AlcoholDrinking\", \"Stroke\", \"DiffWalking\",\n",
    "                \"Sex\", \"AgeCategory\", \"Race\", \"Diabetic\", \"PhysicalActivity\",\n",
    "                \"GenHealth\", \"Asthma\", \"KidneyDisease\", \"SkinCancer\"]\n",
    "for cat_col in cat_cols:\n",
    "    dummy_col = pd.get_dummies(df[cat_col], prefix=cat_col)\n",
    "    df = pd.concat([df, dummy_col], axis=1)\n",
    "    del df[cat_col]\n",
    "\n",
    "for col in ['HeartDisease']:\n",
    "    if df[col].dtype == 'O':\n",
    "        le = LabelEncoder()\n",
    "        df[col] = le.fit_transform(df[col])\n",
    "\n",
    "\n",
    "df.head()"
   ]
  },
  {
   "cell_type": "code",
   "execution_count": 7,
   "id": "7519b35b",
   "metadata": {
    "execution": {
     "iopub.execute_input": "2023-05-22T16:29:52.180735Z",
     "iopub.status.busy": "2023-05-22T16:29:52.180394Z",
     "iopub.status.idle": "2023-05-22T16:29:52.203476Z",
     "shell.execute_reply": "2023-05-22T16:29:52.202461Z"
    },
    "papermill": {
     "duration": 0.06599,
     "end_time": "2023-05-22T16:29:52.205816",
     "exception": false,
     "start_time": "2023-05-22T16:29:52.139826",
     "status": "completed"
    },
    "tags": []
   },
   "outputs": [],
   "source": [
    "df_enc_mix = df_org.copy()"
   ]
  },
  {
   "cell_type": "code",
   "execution_count": 8,
   "id": "cb2eb2fc",
   "metadata": {
    "execution": {
     "iopub.execute_input": "2023-05-22T16:29:52.286258Z",
     "iopub.status.busy": "2023-05-22T16:29:52.285906Z",
     "iopub.status.idle": "2023-05-22T16:29:54.224328Z",
     "shell.execute_reply": "2023-05-22T16:29:54.223196Z"
    },
    "papermill": {
     "duration": 1.981364,
     "end_time": "2023-05-22T16:29:54.226834",
     "exception": false,
     "start_time": "2023-05-22T16:29:52.245470",
     "status": "completed"
    },
    "tags": []
   },
   "outputs": [
    {
     "data": {
      "text/html": [
       "<div>\n",
       "<style scoped>\n",
       "    .dataframe tbody tr th:only-of-type {\n",
       "        vertical-align: middle;\n",
       "    }\n",
       "\n",
       "    .dataframe tbody tr th {\n",
       "        vertical-align: top;\n",
       "    }\n",
       "\n",
       "    .dataframe thead th {\n",
       "        text-align: right;\n",
       "    }\n",
       "</style>\n",
       "<table border=\"1\" class=\"dataframe\">\n",
       "  <thead>\n",
       "    <tr style=\"text-align: right;\">\n",
       "      <th></th>\n",
       "      <th>HeartDisease</th>\n",
       "      <th>BMI</th>\n",
       "      <th>Smoking</th>\n",
       "      <th>AlcoholDrinking</th>\n",
       "      <th>Stroke</th>\n",
       "      <th>PhysicalHealth</th>\n",
       "      <th>MentalHealth</th>\n",
       "      <th>DiffWalking</th>\n",
       "      <th>Sex</th>\n",
       "      <th>PhysicalActivity</th>\n",
       "      <th>...</th>\n",
       "      <th>Race_White</th>\n",
       "      <th>Diabetic_No</th>\n",
       "      <th>Diabetic_No, borderline diabetes</th>\n",
       "      <th>Diabetic_Yes</th>\n",
       "      <th>Diabetic_Yes (during pregnancy)</th>\n",
       "      <th>GenHealth_Excellent</th>\n",
       "      <th>GenHealth_Fair</th>\n",
       "      <th>GenHealth_Good</th>\n",
       "      <th>GenHealth_Poor</th>\n",
       "      <th>GenHealth_Very good</th>\n",
       "    </tr>\n",
       "  </thead>\n",
       "  <tbody>\n",
       "    <tr>\n",
       "      <th>0</th>\n",
       "      <td>0</td>\n",
       "      <td>16.60</td>\n",
       "      <td>1</td>\n",
       "      <td>0</td>\n",
       "      <td>0</td>\n",
       "      <td>3.0</td>\n",
       "      <td>30.0</td>\n",
       "      <td>0</td>\n",
       "      <td>0</td>\n",
       "      <td>1</td>\n",
       "      <td>...</td>\n",
       "      <td>True</td>\n",
       "      <td>False</td>\n",
       "      <td>False</td>\n",
       "      <td>True</td>\n",
       "      <td>False</td>\n",
       "      <td>False</td>\n",
       "      <td>False</td>\n",
       "      <td>False</td>\n",
       "      <td>False</td>\n",
       "      <td>True</td>\n",
       "    </tr>\n",
       "    <tr>\n",
       "      <th>1</th>\n",
       "      <td>0</td>\n",
       "      <td>20.34</td>\n",
       "      <td>0</td>\n",
       "      <td>0</td>\n",
       "      <td>1</td>\n",
       "      <td>0.0</td>\n",
       "      <td>0.0</td>\n",
       "      <td>0</td>\n",
       "      <td>0</td>\n",
       "      <td>1</td>\n",
       "      <td>...</td>\n",
       "      <td>True</td>\n",
       "      <td>True</td>\n",
       "      <td>False</td>\n",
       "      <td>False</td>\n",
       "      <td>False</td>\n",
       "      <td>False</td>\n",
       "      <td>False</td>\n",
       "      <td>False</td>\n",
       "      <td>False</td>\n",
       "      <td>True</td>\n",
       "    </tr>\n",
       "    <tr>\n",
       "      <th>2</th>\n",
       "      <td>0</td>\n",
       "      <td>26.58</td>\n",
       "      <td>1</td>\n",
       "      <td>0</td>\n",
       "      <td>0</td>\n",
       "      <td>20.0</td>\n",
       "      <td>30.0</td>\n",
       "      <td>0</td>\n",
       "      <td>1</td>\n",
       "      <td>1</td>\n",
       "      <td>...</td>\n",
       "      <td>True</td>\n",
       "      <td>False</td>\n",
       "      <td>False</td>\n",
       "      <td>True</td>\n",
       "      <td>False</td>\n",
       "      <td>False</td>\n",
       "      <td>True</td>\n",
       "      <td>False</td>\n",
       "      <td>False</td>\n",
       "      <td>False</td>\n",
       "    </tr>\n",
       "    <tr>\n",
       "      <th>3</th>\n",
       "      <td>0</td>\n",
       "      <td>24.21</td>\n",
       "      <td>0</td>\n",
       "      <td>0</td>\n",
       "      <td>0</td>\n",
       "      <td>0.0</td>\n",
       "      <td>0.0</td>\n",
       "      <td>0</td>\n",
       "      <td>0</td>\n",
       "      <td>0</td>\n",
       "      <td>...</td>\n",
       "      <td>True</td>\n",
       "      <td>True</td>\n",
       "      <td>False</td>\n",
       "      <td>False</td>\n",
       "      <td>False</td>\n",
       "      <td>False</td>\n",
       "      <td>False</td>\n",
       "      <td>True</td>\n",
       "      <td>False</td>\n",
       "      <td>False</td>\n",
       "    </tr>\n",
       "    <tr>\n",
       "      <th>4</th>\n",
       "      <td>0</td>\n",
       "      <td>23.71</td>\n",
       "      <td>0</td>\n",
       "      <td>0</td>\n",
       "      <td>0</td>\n",
       "      <td>28.0</td>\n",
       "      <td>0.0</td>\n",
       "      <td>1</td>\n",
       "      <td>0</td>\n",
       "      <td>1</td>\n",
       "      <td>...</td>\n",
       "      <td>True</td>\n",
       "      <td>True</td>\n",
       "      <td>False</td>\n",
       "      <td>False</td>\n",
       "      <td>False</td>\n",
       "      <td>False</td>\n",
       "      <td>False</td>\n",
       "      <td>False</td>\n",
       "      <td>False</td>\n",
       "      <td>True</td>\n",
       "    </tr>\n",
       "  </tbody>\n",
       "</table>\n",
       "<p>5 rows × 42 columns</p>\n",
       "</div>"
      ],
      "text/plain": [
       "   HeartDisease    BMI  Smoking  AlcoholDrinking  Stroke  PhysicalHealth  \\\n",
       "0             0  16.60        1                0       0             3.0   \n",
       "1             0  20.34        0                0       1             0.0   \n",
       "2             0  26.58        1                0       0            20.0   \n",
       "3             0  24.21        0                0       0             0.0   \n",
       "4             0  23.71        0                0       0            28.0   \n",
       "\n",
       "   MentalHealth  DiffWalking  Sex  PhysicalActivity  ...  Race_White  \\\n",
       "0          30.0            0    0                 1  ...        True   \n",
       "1           0.0            0    0                 1  ...        True   \n",
       "2          30.0            0    1                 1  ...        True   \n",
       "3           0.0            0    0                 0  ...        True   \n",
       "4           0.0            1    0                 1  ...        True   \n",
       "\n",
       "   Diabetic_No  Diabetic_No, borderline diabetes  Diabetic_Yes  \\\n",
       "0        False                             False          True   \n",
       "1         True                             False         False   \n",
       "2        False                             False          True   \n",
       "3         True                             False         False   \n",
       "4         True                             False         False   \n",
       "\n",
       "   Diabetic_Yes (during pregnancy)  GenHealth_Excellent  GenHealth_Fair  \\\n",
       "0                            False                False           False   \n",
       "1                            False                False           False   \n",
       "2                            False                False            True   \n",
       "3                            False                False           False   \n",
       "4                            False                False           False   \n",
       "\n",
       "   GenHealth_Good  GenHealth_Poor  GenHealth_Very good  \n",
       "0           False           False                 True  \n",
       "1           False           False                 True  \n",
       "2           False           False                False  \n",
       "3            True           False                False  \n",
       "4           False           False                 True  \n",
       "\n",
       "[5 rows x 42 columns]"
      ]
     },
     "execution_count": 8,
     "metadata": {},
     "output_type": "execute_result"
    }
   ],
   "source": [
    "import pandas as pd\n",
    "from sklearn.preprocessing import LabelEncoder\n",
    "\n",
    "le = LabelEncoder()\n",
    "\n",
    "categorical_cols = df_enc_mix.select_dtypes(include=['object', 'category']).columns.tolist()\n",
    "\n",
    "for col in categorical_cols:\n",
    "    if len(df_enc_mix[col].unique()) <= 2:\n",
    "        df_enc_mix[col] = le.fit_transform(df_enc_mix[col])\n",
    "    else:\n",
    "        df_enc_mix = pd.get_dummies(df_enc_mix, columns=[col])\n",
    "\n",
    "df_enc_mix.head()"
   ]
  },
  {
   "cell_type": "code",
   "execution_count": 9,
   "id": "ea263abb",
   "metadata": {
    "execution": {
     "iopub.execute_input": "2023-05-22T16:29:54.392404Z",
     "iopub.status.busy": "2023-05-22T16:29:54.392020Z",
     "iopub.status.idle": "2023-05-22T16:29:54.494004Z",
     "shell.execute_reply": "2023-05-22T16:29:54.490947Z"
    },
    "papermill": {
     "duration": 0.146105,
     "end_time": "2023-05-22T16:29:54.496539",
     "exception": false,
     "start_time": "2023-05-22T16:29:54.350434",
     "status": "completed"
    },
    "tags": []
   },
   "outputs": [
    {
     "name": "stdout",
     "output_type": "stream",
     "text": [
      "HeartDisease : [0 1]\n",
      "BMI : [16.6  20.34 26.58 ... 62.42 51.46 46.56]\n",
      "PhysicalHealth : [ 3.  0. 20. 28.  6. 15.  5. 30.  7.  1.  2. 21.  4. 10. 14. 18.  8. 25.\n",
      " 16. 29. 27. 17. 24. 12. 23. 26. 22. 19.  9. 13. 11.]\n",
      "MentalHealth : [30.  0.  2.  5. 15.  8.  4.  3. 10. 14. 20.  1.  7. 24.  9. 28. 16. 12.\n",
      "  6. 25. 17. 18. 21. 29. 22. 13. 23. 27. 26. 11. 19.]\n",
      "SleepTime : [ 5.  7.  8.  6. 12.  4.  9. 10. 15.  3.  2.  1. 16. 18. 14. 20. 11. 13.\n",
      " 17. 24. 19. 21. 22. 23.]\n",
      "Smoking_No : [False  True]\n",
      "Smoking_Yes : [ True False]\n",
      "AlcoholDrinking_No : [ True False]\n",
      "AlcoholDrinking_Yes : [False  True]\n",
      "Stroke_No : [ True False]\n",
      "Stroke_Yes : [False  True]\n",
      "DiffWalking_No : [ True False]\n",
      "DiffWalking_Yes : [False  True]\n",
      "Sex_Female : [ True False]\n",
      "Sex_Male : [False  True]\n",
      "AgeCategory_21 : [False  True]\n",
      "AgeCategory_27 : [False  True]\n",
      "AgeCategory_32 : [False  True]\n",
      "AgeCategory_37 : [False  True]\n",
      "AgeCategory_42 : [False  True]\n",
      "AgeCategory_47 : [False  True]\n",
      "AgeCategory_52 : [False  True]\n",
      "AgeCategory_57 : [ True False]\n",
      "AgeCategory_62 : [False  True]\n",
      "AgeCategory_67 : [False  True]\n",
      "AgeCategory_72 : [False  True]\n",
      "AgeCategory_77 : [False  True]\n",
      "AgeCategory_80 : [False  True]\n",
      "Race_American Indian/Alaskan Native : [False  True]\n",
      "Race_Asian : [False  True]\n",
      "Race_Black : [False  True]\n",
      "Race_Hispanic : [False  True]\n",
      "Race_Other : [False  True]\n",
      "Race_White : [ True False]\n",
      "Diabetic_No : [False  True]\n",
      "Diabetic_No, borderline diabetes : [False  True]\n",
      "Diabetic_Yes : [ True False]\n",
      "Diabetic_Yes (during pregnancy) : [False  True]\n",
      "PhysicalActivity_No : [False  True]\n",
      "PhysicalActivity_Yes : [ True False]\n",
      "GenHealth_Excellent : [False  True]\n",
      "GenHealth_Fair : [False  True]\n",
      "GenHealth_Good : [False  True]\n",
      "GenHealth_Poor : [False  True]\n",
      "GenHealth_Very good : [ True False]\n",
      "Asthma_No : [False  True]\n",
      "Asthma_Yes : [ True False]\n",
      "KidneyDisease_No : [ True False]\n",
      "KidneyDisease_Yes : [False  True]\n",
      "SkinCancer_No : [False  True]\n",
      "SkinCancer_Yes : [ True False]\n"
     ]
    }
   ],
   "source": [
    "for column in list(df.columns.values):\n",
    "    print(column, ':', str(df[column].unique()))"
   ]
  },
  {
   "cell_type": "code",
   "execution_count": 10,
   "id": "5c8f4747",
   "metadata": {
    "execution": {
     "iopub.execute_input": "2023-05-22T16:29:54.579176Z",
     "iopub.status.busy": "2023-05-22T16:29:54.578805Z",
     "iopub.status.idle": "2023-05-22T16:29:54.663086Z",
     "shell.execute_reply": "2023-05-22T16:29:54.661388Z"
    },
    "papermill": {
     "duration": 0.128358,
     "end_time": "2023-05-22T16:29:54.665430",
     "exception": false,
     "start_time": "2023-05-22T16:29:54.537072",
     "status": "completed"
    },
    "tags": []
   },
   "outputs": [
    {
     "name": "stdout",
     "output_type": "stream",
     "text": [
      "HeartDisease : [0 1]\n",
      "BMI : [16.6  20.34 26.58 ... 62.42 51.46 46.56]\n",
      "Smoking : [1 0]\n",
      "AlcoholDrinking : [0 1]\n",
      "Stroke : [0 1]\n",
      "PhysicalHealth : [ 3.  0. 20. 28.  6. 15.  5. 30.  7.  1.  2. 21.  4. 10. 14. 18.  8. 25.\n",
      " 16. 29. 27. 17. 24. 12. 23. 26. 22. 19.  9. 13. 11.]\n",
      "MentalHealth : [30.  0.  2.  5. 15.  8.  4.  3. 10. 14. 20.  1.  7. 24.  9. 28. 16. 12.\n",
      "  6. 25. 17. 18. 21. 29. 22. 13. 23. 27. 26. 11. 19.]\n",
      "DiffWalking : [0 1]\n",
      "Sex : [0 1]\n",
      "PhysicalActivity : [1 0]\n",
      "SleepTime : [ 5.  7.  8.  6. 12.  4.  9. 10. 15.  3.  2.  1. 16. 18. 14. 20. 11. 13.\n",
      " 17. 24. 19. 21. 22. 23.]\n",
      "Asthma : [1 0]\n",
      "KidneyDisease : [0 1]\n",
      "SkinCancer : [1 0]\n",
      "AgeCategory_18-24 : [False  True]\n",
      "AgeCategory_25-29 : [False  True]\n",
      "AgeCategory_30-34 : [False  True]\n",
      "AgeCategory_35-39 : [False  True]\n",
      "AgeCategory_40-44 : [False  True]\n",
      "AgeCategory_45-49 : [False  True]\n",
      "AgeCategory_50-54 : [False  True]\n",
      "AgeCategory_55-59 : [ True False]\n",
      "AgeCategory_60-64 : [False  True]\n",
      "AgeCategory_65-69 : [False  True]\n",
      "AgeCategory_70-74 : [False  True]\n",
      "AgeCategory_75-79 : [False  True]\n",
      "AgeCategory_80 or older : [False  True]\n",
      "Race_American Indian/Alaskan Native : [False  True]\n",
      "Race_Asian : [False  True]\n",
      "Race_Black : [False  True]\n",
      "Race_Hispanic : [False  True]\n",
      "Race_Other : [False  True]\n",
      "Race_White : [ True False]\n",
      "Diabetic_No : [False  True]\n",
      "Diabetic_No, borderline diabetes : [False  True]\n",
      "Diabetic_Yes : [ True False]\n",
      "Diabetic_Yes (during pregnancy) : [False  True]\n",
      "GenHealth_Excellent : [False  True]\n",
      "GenHealth_Fair : [False  True]\n",
      "GenHealth_Good : [False  True]\n",
      "GenHealth_Poor : [False  True]\n",
      "GenHealth_Very good : [ True False]\n"
     ]
    }
   ],
   "source": [
    "for column in list(df_enc_mix.columns.values):\n",
    "    print(column, ':', str(df_enc_mix[column].unique()))"
   ]
  },
  {
   "cell_type": "code",
   "execution_count": 11,
   "id": "3729e526",
   "metadata": {
    "execution": {
     "iopub.execute_input": "2023-05-22T16:29:54.828042Z",
     "iopub.status.busy": "2023-05-22T16:29:54.827680Z",
     "iopub.status.idle": "2023-05-22T16:29:54.882904Z",
     "shell.execute_reply": "2023-05-22T16:29:54.881914Z"
    },
    "papermill": {
     "duration": 0.099085,
     "end_time": "2023-05-22T16:29:54.885153",
     "exception": false,
     "start_time": "2023-05-22T16:29:54.786068",
     "status": "completed"
    },
    "tags": []
   },
   "outputs": [],
   "source": [
    "from sklearn.model_selection import train_test_split"
   ]
  },
  {
   "cell_type": "code",
   "execution_count": 12,
   "id": "10b66fcb",
   "metadata": {
    "execution": {
     "iopub.execute_input": "2023-05-22T16:29:54.969176Z",
     "iopub.status.busy": "2023-05-22T16:29:54.968110Z",
     "iopub.status.idle": "2023-05-22T16:29:55.043616Z",
     "shell.execute_reply": "2023-05-22T16:29:55.042642Z"
    },
    "papermill": {
     "duration": 0.11971,
     "end_time": "2023-05-22T16:29:55.046125",
     "exception": false,
     "start_time": "2023-05-22T16:29:54.926415",
     "status": "completed"
    },
    "tags": []
   },
   "outputs": [
    {
     "data": {
      "text/plain": [
       "((255836, 51), (63959, 51))"
      ]
     },
     "execution_count": 12,
     "metadata": {},
     "output_type": "execute_result"
    }
   ],
   "source": [
    "train_data, test_data = train_test_split(df, train_size=0.80) \n",
    "train_data.shape, test_data.shape"
   ]
  },
  {
   "cell_type": "code",
   "execution_count": 13,
   "id": "12071924",
   "metadata": {
    "execution": {
     "iopub.execute_input": "2023-05-22T16:29:55.129794Z",
     "iopub.status.busy": "2023-05-22T16:29:55.129433Z",
     "iopub.status.idle": "2023-05-22T16:29:55.229458Z",
     "shell.execute_reply": "2023-05-22T16:29:55.228296Z"
    },
    "papermill": {
     "duration": 0.144624,
     "end_time": "2023-05-22T16:29:55.232342",
     "exception": false,
     "start_time": "2023-05-22T16:29:55.087718",
     "status": "completed"
    },
    "tags": []
   },
   "outputs": [
    {
     "data": {
      "text/plain": [
       "((255836, 42), (63959, 42))"
      ]
     },
     "execution_count": 13,
     "metadata": {},
     "output_type": "execute_result"
    }
   ],
   "source": [
    "train_data_label, test_data_label = train_test_split(df_enc_mix, train_size=0.80)\n",
    "train_data_label.shape, test_data_label.shape"
   ]
  },
  {
   "cell_type": "code",
   "execution_count": 14,
   "id": "2dedaf7f",
   "metadata": {
    "execution": {
     "iopub.execute_input": "2023-05-22T16:29:55.395414Z",
     "iopub.status.busy": "2023-05-22T16:29:55.395029Z",
     "iopub.status.idle": "2023-05-22T16:29:55.428851Z",
     "shell.execute_reply": "2023-05-22T16:29:55.427183Z"
    },
    "papermill": {
     "duration": 0.077801,
     "end_time": "2023-05-22T16:29:55.431439",
     "exception": false,
     "start_time": "2023-05-22T16:29:55.353638",
     "status": "completed"
    },
    "tags": []
   },
   "outputs": [
    {
     "name": "stdout",
     "output_type": "stream",
     "text": [
      "(255836, 50) (255836,)\n",
      "(63959, 50) (63959,)\n"
     ]
    }
   ],
   "source": [
    "X_train= train_data.drop('HeartDisease', axis=1)\n",
    "y_train= train_data['HeartDisease']\n",
    "print(X_train.shape, y_train.shape)\n",
    "\n",
    "X_test= test_data.drop('HeartDisease', axis=1)\n",
    "y_test= test_data['HeartDisease']\n",
    "print(X_test.shape, y_test.shape)"
   ]
  },
  {
   "cell_type": "code",
   "execution_count": 15,
   "id": "26312588",
   "metadata": {
    "execution": {
     "iopub.execute_input": "2023-05-22T16:29:55.519961Z",
     "iopub.status.busy": "2023-05-22T16:29:55.519260Z",
     "iopub.status.idle": "2023-05-22T16:29:55.551766Z",
     "shell.execute_reply": "2023-05-22T16:29:55.550222Z"
    },
    "papermill": {
     "duration": 0.078071,
     "end_time": "2023-05-22T16:29:55.554144",
     "exception": false,
     "start_time": "2023-05-22T16:29:55.476073",
     "status": "completed"
    },
    "tags": []
   },
   "outputs": [
    {
     "name": "stdout",
     "output_type": "stream",
     "text": [
      "(255836, 41) (255836,)\n",
      "(63959, 41) (63959,)\n"
     ]
    }
   ],
   "source": [
    "X_train_new= train_data_label.drop('HeartDisease', axis=1)\n",
    "y_train_new= train_data_label['HeartDisease']\n",
    "print(X_train_new.shape, y_train_new.shape)\n",
    "\n",
    "X_test_new= test_data_label.drop('HeartDisease', axis=1)\n",
    "y_test_new= test_data_label['HeartDisease']\n",
    "print(X_test_new.shape, y_test_new.shape)"
   ]
  },
  {
   "cell_type": "code",
   "execution_count": 16,
   "id": "564baa2d",
   "metadata": {
    "execution": {
     "iopub.execute_input": "2023-05-22T16:29:55.722399Z",
     "iopub.status.busy": "2023-05-22T16:29:55.721702Z",
     "iopub.status.idle": "2023-05-22T16:29:56.140528Z",
     "shell.execute_reply": "2023-05-22T16:29:56.139489Z"
    },
    "papermill": {
     "duration": 0.464515,
     "end_time": "2023-05-22T16:29:56.143492",
     "exception": false,
     "start_time": "2023-05-22T16:29:55.678977",
     "status": "completed"
    },
    "tags": []
   },
   "outputs": [],
   "source": [
    "from sklearn.preprocessing import StandardScaler\n",
    "sc=StandardScaler()\n",
    "\n",
    "X_train=sc.fit_transform(X_train)\n",
    "X_test=sc.transform(X_test)\n",
    "\n",
    "X_train_new=sc.fit_transform(X_train_new)\n",
    "X_test_new=sc.transform(X_test_new)"
   ]
  },
  {
   "cell_type": "code",
   "execution_count": 17,
   "id": "45f4161d",
   "metadata": {
    "execution": {
     "iopub.execute_input": "2023-05-22T16:29:56.228201Z",
     "iopub.status.busy": "2023-05-22T16:29:56.227171Z",
     "iopub.status.idle": "2023-05-22T16:29:56.234844Z",
     "shell.execute_reply": "2023-05-22T16:29:56.233767Z"
    },
    "papermill": {
     "duration": 0.052184,
     "end_time": "2023-05-22T16:29:56.237082",
     "exception": false,
     "start_time": "2023-05-22T16:29:56.184898",
     "status": "completed"
    },
    "tags": []
   },
   "outputs": [
    {
     "data": {
      "text/plain": [
       "array([[-5.14980396e-01, -1.73063320e-01, -4.90461609e-01, ...,\n",
       "        -1.96229943e-01,  3.20822046e-01, -3.20822046e-01],\n",
       "       [ 9.24724207e-01, -4.24516940e-01, -4.90461609e-01, ...,\n",
       "        -1.96229943e-01,  3.20822046e-01, -3.20822046e-01],\n",
       "       [-8.29669927e-01, -4.24516940e-01, -4.90461609e-01, ...,\n",
       "        -1.96229943e-01,  3.20822046e-01, -3.20822046e-01],\n",
       "       ...,\n",
       "       [-3.90678031e-01, -4.24516940e-01, -4.90461609e-01, ...,\n",
       "        -1.96229943e-01,  3.20822046e-01, -3.20822046e-01],\n",
       "       [ 1.11043450e-03,  2.09001926e+00,  2.64732586e+00, ...,\n",
       "        -1.96229943e-01,  3.20822046e-01, -3.20822046e-01],\n",
       "       [-6.67604818e-01, -4.24516940e-01, -4.90461609e-01, ...,\n",
       "        -1.96229943e-01,  3.20822046e-01, -3.20822046e-01]])"
      ]
     },
     "execution_count": 17,
     "metadata": {},
     "output_type": "execute_result"
    }
   ],
   "source": [
    "X_train"
   ]
  },
  {
   "cell_type": "code",
   "execution_count": 18,
   "id": "75ddd630",
   "metadata": {
    "execution": {
     "iopub.execute_input": "2023-05-22T16:29:56.321064Z",
     "iopub.status.busy": "2023-05-22T16:29:56.319486Z",
     "iopub.status.idle": "2023-05-22T16:29:56.327045Z",
     "shell.execute_reply": "2023-05-22T16:29:56.326043Z"
    },
    "papermill": {
     "duration": 0.051457,
     "end_time": "2023-05-22T16:29:56.329274",
     "exception": false,
     "start_time": "2023-05-22T16:29:56.277817",
     "status": "completed"
    },
    "tags": []
   },
   "outputs": [
    {
     "data": {
      "text/plain": [
       "array([[-0.79069828,  1.19332341, -0.27032308, ...,  1.55907815,\n",
       "        -0.19079485, -0.74342191],\n",
       "       [ 0.47196222, -0.83799579, -0.27032308, ..., -0.64140467,\n",
       "        -0.19079485,  1.34513119],\n",
       "       [-0.85524826, -0.83799579, -0.27032308, ..., -0.64140467,\n",
       "        -0.19079485, -0.74342191],\n",
       "       ...,\n",
       "       [-0.83635558, -0.83799579, -0.27032308, ..., -0.64140467,\n",
       "        -0.19079485,  1.34513119],\n",
       "       [ 0.86870841,  1.19332341, -0.27032308, ..., -0.64140467,\n",
       "        -0.19079485,  1.34513119],\n",
       "       [-0.05388392, -0.83799579,  3.69927717, ...,  1.55907815,\n",
       "        -0.19079485, -0.74342191]])"
      ]
     },
     "execution_count": 18,
     "metadata": {},
     "output_type": "execute_result"
    }
   ],
   "source": [
    "X_train_new"
   ]
  },
  {
   "cell_type": "code",
   "execution_count": 19,
   "id": "c635f9b7",
   "metadata": {
    "execution": {
     "iopub.execute_input": "2023-05-22T16:29:56.501749Z",
     "iopub.status.busy": "2023-05-22T16:29:56.501387Z",
     "iopub.status.idle": "2023-05-22T16:29:56.512393Z",
     "shell.execute_reply": "2023-05-22T16:29:56.511294Z"
    },
    "papermill": {
     "duration": 0.055277,
     "end_time": "2023-05-22T16:29:56.514486",
     "exception": false,
     "start_time": "2023-05-22T16:29:56.459209",
     "status": "completed"
    },
    "tags": []
   },
   "outputs": [
    {
     "data": {
      "text/plain": [
       "HeartDisease\n",
       "0    292422\n",
       "1     27373\n",
       "Name: count, dtype: int64"
      ]
     },
     "execution_count": 19,
     "metadata": {},
     "output_type": "execute_result"
    }
   ],
   "source": [
    "df['HeartDisease'].value_counts()"
   ]
  },
  {
   "cell_type": "code",
   "execution_count": 20,
   "id": "7b7599c9",
   "metadata": {
    "execution": {
     "iopub.execute_input": "2023-05-22T16:29:56.598153Z",
     "iopub.status.busy": "2023-05-22T16:29:56.597836Z",
     "iopub.status.idle": "2023-05-22T16:29:56.607285Z",
     "shell.execute_reply": "2023-05-22T16:29:56.606293Z"
    },
    "papermill": {
     "duration": 0.054045,
     "end_time": "2023-05-22T16:29:56.609400",
     "exception": false,
     "start_time": "2023-05-22T16:29:56.555355",
     "status": "completed"
    },
    "tags": []
   },
   "outputs": [
    {
     "data": {
      "text/plain": [
       "HeartDisease\n",
       "0    292422\n",
       "1     27373\n",
       "Name: count, dtype: int64"
      ]
     },
     "execution_count": 20,
     "metadata": {},
     "output_type": "execute_result"
    }
   ],
   "source": [
    "df_enc_mix['HeartDisease'].value_counts()"
   ]
  },
  {
   "cell_type": "code",
   "execution_count": 21,
   "id": "de175ea4",
   "metadata": {
    "execution": {
     "iopub.execute_input": "2023-05-22T16:29:56.860681Z",
     "iopub.status.busy": "2023-05-22T16:29:56.859564Z",
     "iopub.status.idle": "2023-05-22T16:29:57.309587Z",
     "shell.execute_reply": "2023-05-22T16:29:57.308523Z"
    },
    "papermill": {
     "duration": 0.496985,
     "end_time": "2023-05-22T16:29:57.312538",
     "exception": false,
     "start_time": "2023-05-22T16:29:56.815553",
     "status": "completed"
    },
    "tags": []
   },
   "outputs": [],
   "source": [
    "from imblearn.over_sampling import SMOTE"
   ]
  },
  {
   "cell_type": "code",
   "execution_count": 22,
   "id": "ce075698",
   "metadata": {
    "execution": {
     "iopub.execute_input": "2023-05-22T16:29:57.398059Z",
     "iopub.status.busy": "2023-05-22T16:29:57.397067Z",
     "iopub.status.idle": "2023-05-22T16:29:57.402217Z",
     "shell.execute_reply": "2023-05-22T16:29:57.401276Z"
    },
    "papermill": {
     "duration": 0.050092,
     "end_time": "2023-05-22T16:29:57.404444",
     "exception": false,
     "start_time": "2023-05-22T16:29:57.354352",
     "status": "completed"
    },
    "tags": []
   },
   "outputs": [],
   "source": [
    "from imblearn.under_sampling import NearMiss"
   ]
  },
  {
   "cell_type": "code",
   "execution_count": 23,
   "id": "a21b9e90",
   "metadata": {
    "execution": {
     "iopub.execute_input": "2023-05-22T16:29:57.489016Z",
     "iopub.status.busy": "2023-05-22T16:29:57.488661Z",
     "iopub.status.idle": "2023-05-22T16:29:57.493571Z",
     "shell.execute_reply": "2023-05-22T16:29:57.492532Z"
    },
    "papermill": {
     "duration": 0.049915,
     "end_time": "2023-05-22T16:29:57.495815",
     "exception": false,
     "start_time": "2023-05-22T16:29:57.445900",
     "status": "completed"
    },
    "tags": []
   },
   "outputs": [],
   "source": [
    "\n",
    "from collections import Counter"
   ]
  },
  {
   "cell_type": "code",
   "execution_count": 24,
   "id": "a1c3526f",
   "metadata": {
    "execution": {
     "iopub.execute_input": "2023-05-22T16:29:57.580598Z",
     "iopub.status.busy": "2023-05-22T16:29:57.579669Z",
     "iopub.status.idle": "2023-05-22T16:30:06.207805Z",
     "shell.execute_reply": "2023-05-22T16:30:06.205531Z"
    },
    "papermill": {
     "duration": 8.673336,
     "end_time": "2023-05-22T16:30:06.210315",
     "exception": false,
     "start_time": "2023-05-22T16:29:57.536979",
     "status": "completed"
    },
    "tags": []
   },
   "outputs": [
    {
     "name": "stdout",
     "output_type": "stream",
     "text": [
      "Original: Counter({0: 233946, 1: 21890})\n",
      "   SMOTE: Counter({0: 233946, 1: 233946})\n"
     ]
    }
   ],
   "source": [
    "smote = SMOTE(sampling_strategy='minority')\n",
    "X_train_smote , y_train_smote = smote.fit_resample(X_train,y_train)\n",
    "\n",
    "print('Original: {}'.format(Counter(y_train))) \n",
    "print('   SMOTE: {}'.format(Counter(y_train_smote))) "
   ]
  },
  {
   "cell_type": "code",
   "execution_count": 25,
   "id": "0c8c86fd",
   "metadata": {
    "execution": {
     "iopub.execute_input": "2023-05-22T16:30:06.297182Z",
     "iopub.status.busy": "2023-05-22T16:30:06.296772Z",
     "iopub.status.idle": "2023-05-22T16:30:16.094303Z",
     "shell.execute_reply": "2023-05-22T16:30:16.093219Z"
    },
    "papermill": {
     "duration": 9.844674,
     "end_time": "2023-05-22T16:30:16.097430",
     "exception": false,
     "start_time": "2023-05-22T16:30:06.252756",
     "status": "completed"
    },
    "tags": []
   },
   "outputs": [
    {
     "name": "stdout",
     "output_type": "stream",
     "text": [
      "Original: Counter({0: 233965, 1: 21871})\n",
      "  SMOTE2: Counter({0: 233965, 1: 233965})\n"
     ]
    }
   ],
   "source": [
    "X_train_smote_new , y_train_smote_new = smote.fit_resample(X_train_new,y_train_new)\n",
    "\n",
    "print('Original: {}'.format(Counter(y_train_new)))\n",
    "print('  SMOTE2: {}'.format(Counter(y_train_smote_new)))"
   ]
  },
  {
   "cell_type": "code",
   "execution_count": 26,
   "id": "67e95f53",
   "metadata": {
    "execution": {
     "iopub.execute_input": "2023-05-22T16:30:16.193036Z",
     "iopub.status.busy": "2023-05-22T16:30:16.192660Z",
     "iopub.status.idle": "2023-05-22T16:31:56.687152Z",
     "shell.execute_reply": "2023-05-22T16:31:56.686087Z"
    },
    "papermill": {
     "duration": 100.584053,
     "end_time": "2023-05-22T16:31:56.732360",
     "exception": false,
     "start_time": "2023-05-22T16:30:16.148307",
     "status": "completed"
    },
    "tags": []
   },
   "outputs": [
    {
     "name": "stdout",
     "output_type": "stream",
     "text": [
      "Original: Counter({0: 233946, 1: 21890})\n",
      "NearMiss: Counter({0: 21890, 1: 21890})\n"
     ]
    }
   ],
   "source": [
    "nearmiss = NearMiss(version=3)\n",
    "X_train_nearmiss, y_train_nearmiss = nearmiss.fit_resample(X_train, y_train)\n",
    "\n",
    "print('Original: {}'.format(Counter(y_train))) \n",
    "print('NearMiss: {}'.format(Counter(y_train_nearmiss))) "
   ]
  },
  {
   "cell_type": "code",
   "execution_count": 27,
   "id": "d4738b4d",
   "metadata": {
    "execution": {
     "iopub.execute_input": "2023-05-22T16:31:56.819291Z",
     "iopub.status.busy": "2023-05-22T16:31:56.818699Z",
     "iopub.status.idle": "2023-05-22T16:33:36.260533Z",
     "shell.execute_reply": "2023-05-22T16:33:36.259456Z"
    },
    "papermill": {
     "duration": 99.53053,
     "end_time": "2023-05-22T16:33:36.305115",
     "exception": false,
     "start_time": "2023-05-22T16:31:56.774585",
     "status": "completed"
    },
    "tags": []
   },
   "outputs": [
    {
     "name": "stdout",
     "output_type": "stream",
     "text": [
      " Original: Counter({0: 233965, 1: 21871})\n",
      "NearMiss2: Counter({0: 21871, 1: 21871})\n"
     ]
    }
   ],
   "source": [
    "X_train_nearmiss_new, y_train_nearmiss_new = nearmiss.fit_resample(X_train_new, y_train_new)\n",
    "\n",
    "print(' Original: {}'.format(Counter(y_train_new)))\n",
    "print('NearMiss2: {}'.format(Counter(y_train_nearmiss_new)))"
   ]
  },
  {
   "cell_type": "code",
   "execution_count": 28,
   "id": "b2f3b300",
   "metadata": {
    "execution": {
     "iopub.execute_input": "2023-05-22T16:33:36.482933Z",
     "iopub.status.busy": "2023-05-22T16:33:36.482254Z",
     "iopub.status.idle": "2023-05-22T16:33:36.487492Z",
     "shell.execute_reply": "2023-05-22T16:33:36.486460Z"
    },
    "papermill": {
     "duration": 0.051149,
     "end_time": "2023-05-22T16:33:36.489691",
     "exception": false,
     "start_time": "2023-05-22T16:33:36.438542",
     "status": "completed"
    },
    "tags": []
   },
   "outputs": [],
   "source": [
    "from sklearn.model_selection import KFold\n",
    "\n",
    "cv = KFold(n_splits=10, random_state=None,shuffle=False) "
   ]
  },
  {
   "cell_type": "code",
   "execution_count": 29,
   "id": "e5412354",
   "metadata": {
    "execution": {
     "iopub.execute_input": "2023-05-22T16:33:36.660120Z",
     "iopub.status.busy": "2023-05-22T16:33:36.659095Z",
     "iopub.status.idle": "2023-05-22T16:33:36.672319Z",
     "shell.execute_reply": "2023-05-22T16:33:36.671341Z"
    },
    "papermill": {
     "duration": 0.059037,
     "end_time": "2023-05-22T16:33:36.674697",
     "exception": false,
     "start_time": "2023-05-22T16:33:36.615660",
     "status": "completed"
    },
    "tags": []
   },
   "outputs": [],
   "source": [
    "from sklearn.tree import DecisionTreeClassifier\n",
    "import matplotlib.pyplot as plt\n",
    "import seaborn as sn\n",
    "from sklearn.metrics import auc, roc_curve\n",
    "from sklearn.model_selection import GridSearchCV\n",
    "from sklearn.metrics import classification_report, confusion_matrix"
   ]
  },
  {
   "cell_type": "code",
   "execution_count": 30,
   "id": "f29e749c",
   "metadata": {
    "execution": {
     "iopub.execute_input": "2023-05-22T16:33:36.927972Z",
     "iopub.status.busy": "2023-05-22T16:33:36.927609Z",
     "iopub.status.idle": "2023-05-22T16:33:36.933979Z",
     "shell.execute_reply": "2023-05-22T16:33:36.932889Z"
    },
    "papermill": {
     "duration": 0.05141,
     "end_time": "2023-05-22T16:33:36.936150",
     "exception": false,
     "start_time": "2023-05-22T16:33:36.884740",
     "status": "completed"
    },
    "tags": []
   },
   "outputs": [],
   "source": [
    "\n",
    "def dt_model():\n",
    "    model_dt = DecisionTreeClassifier()\n",
    "    params_dt = {\"criterion\":['gini','entropy'], \"max_depth\": [100], \"random_state\": [1024]}\n",
    "    model_dt_cv = GridSearchCV( model_dt, \n",
    "                                param_grid = params_dt, \n",
    "                                cv = cv, \n",
    "                                n_jobs = -1, \n",
    "                                verbose = 1 )\n",
    "    return model_dt_cv"
   ]
  },
  {
   "cell_type": "code",
   "execution_count": 31,
   "id": "00d95846",
   "metadata": {
    "execution": {
     "iopub.execute_input": "2023-05-22T16:33:37.020636Z",
     "iopub.status.busy": "2023-05-22T16:33:37.020041Z",
     "iopub.status.idle": "2023-05-22T16:35:19.584987Z",
     "shell.execute_reply": "2023-05-22T16:35:19.578247Z"
    },
    "papermill": {
     "duration": 102.648502,
     "end_time": "2023-05-22T16:35:19.625797",
     "exception": false,
     "start_time": "2023-05-22T16:33:36.977295",
     "status": "completed"
    },
    "tags": []
   },
   "outputs": [
    {
     "name": "stdout",
     "output_type": "stream",
     "text": [
      "Fitting 10 folds for each of 2 candidates, totalling 20 fits\n",
      "Best Hyper Parameters for SMOTE:  {'criterion': 'entropy', 'max_depth': 100, 'random_state': 1024}\n"
     ]
    }
   ],
   "source": [
    "model_dt_cv_smote = dt_model()\n",
    "model_dt_cv_smote.fit(X_train_smote ,y_train_smote)\n",
    "print(\"Best Hyper Parameters for SMOTE: \", model_dt_cv_smote.best_params_)"
   ]
  },
  {
   "cell_type": "code",
   "execution_count": 32,
   "id": "b9361702",
   "metadata": {
    "execution": {
     "iopub.execute_input": "2023-05-22T16:35:19.714395Z",
     "iopub.status.busy": "2023-05-22T16:35:19.713961Z",
     "iopub.status.idle": "2023-05-22T16:36:38.104856Z",
     "shell.execute_reply": "2023-05-22T16:36:38.103723Z"
    },
    "papermill": {
     "duration": 78.482209,
     "end_time": "2023-05-22T16:36:38.150834",
     "exception": false,
     "start_time": "2023-05-22T16:35:19.668625",
     "status": "completed"
    },
    "tags": []
   },
   "outputs": [
    {
     "name": "stdout",
     "output_type": "stream",
     "text": [
      "Fitting 10 folds for each of 2 candidates, totalling 20 fits\n",
      "Best Hyper Parameters for SMOTE2:  {'criterion': 'entropy', 'max_depth': 100, 'random_state': 1024}\n"
     ]
    }
   ],
   "source": [
    "model_dt_cv_smote_new = dt_model()\n",
    "model_dt_cv_smote_new.fit(X_train_smote_new ,y_train_smote_new)\n",
    "print(\"Best Hyper Parameters for SMOTE2: \", model_dt_cv_smote_new.best_params_)"
   ]
  },
  {
   "cell_type": "code",
   "execution_count": 33,
   "id": "3c9bea2e",
   "metadata": {
    "execution": {
     "iopub.execute_input": "2023-05-22T16:36:38.306250Z",
     "iopub.status.busy": "2023-05-22T16:36:38.305534Z",
     "iopub.status.idle": "2023-05-22T16:36:44.005146Z",
     "shell.execute_reply": "2023-05-22T16:36:44.003925Z"
    },
    "papermill": {
     "duration": 5.745813,
     "end_time": "2023-05-22T16:36:44.007629",
     "exception": false,
     "start_time": "2023-05-22T16:36:38.261816",
     "status": "completed"
    },
    "tags": []
   },
   "outputs": [
    {
     "name": "stdout",
     "output_type": "stream",
     "text": [
      "Fitting 10 folds for each of 2 candidates, totalling 20 fits\n",
      "Best Hyper Parameters for NearMiss:  {'criterion': 'entropy', 'max_depth': 100, 'random_state': 1024}\n"
     ]
    }
   ],
   "source": [
    "model_dt_cv_nearmiss = dt_model()\n",
    "model_dt_cv_nearmiss.fit(X_train_nearmiss ,y_train_nearmiss)\n",
    "print(\"Best Hyper Parameters for NearMiss: \", model_dt_cv_nearmiss.best_params_)"
   ]
  },
  {
   "cell_type": "code",
   "execution_count": 34,
   "id": "38741fda",
   "metadata": {
    "execution": {
     "iopub.execute_input": "2023-05-22T16:36:44.096852Z",
     "iopub.status.busy": "2023-05-22T16:36:44.095817Z",
     "iopub.status.idle": "2023-05-22T16:36:48.886840Z",
     "shell.execute_reply": "2023-05-22T16:36:48.885120Z"
    },
    "papermill": {
     "duration": 4.83819,
     "end_time": "2023-05-22T16:36:48.889179",
     "exception": false,
     "start_time": "2023-05-22T16:36:44.050989",
     "status": "completed"
    },
    "tags": []
   },
   "outputs": [
    {
     "name": "stdout",
     "output_type": "stream",
     "text": [
      "Fitting 10 folds for each of 2 candidates, totalling 20 fits\n",
      "Best Hyper Parameters for NearMiss2:  {'criterion': 'gini', 'max_depth': 100, 'random_state': 1024}\n"
     ]
    }
   ],
   "source": [
    "model_dt_cv_nearmiss_new = dt_model()\n",
    "model_dt_cv_nearmiss_new.fit(X_train_nearmiss_new ,y_train_nearmiss_new)\n",
    "print(\"Best Hyper Parameters for NearMiss2: \", model_dt_cv_nearmiss_new.best_params_)"
   ]
  },
  {
   "cell_type": "code",
   "execution_count": 35,
   "id": "a210779e",
   "metadata": {
    "execution": {
     "iopub.execute_input": "2023-05-22T16:36:49.064197Z",
     "iopub.status.busy": "2023-05-22T16:36:49.062670Z",
     "iopub.status.idle": "2023-05-22T16:36:49.158293Z",
     "shell.execute_reply": "2023-05-22T16:36:49.156944Z"
    },
    "papermill": {
     "duration": 0.14365,
     "end_time": "2023-05-22T16:36:49.161513",
     "exception": false,
     "start_time": "2023-05-22T16:36:49.017863",
     "status": "completed"
    },
    "tags": []
   },
   "outputs": [
    {
     "name": "stdout",
     "output_type": "stream",
     "text": [
      "Classification Report for SMOTE: \n",
      "               precision    recall  f1-score   support\n",
      "\n",
      "           0       0.93      0.90      0.91     58476\n",
      "           1       0.21      0.30      0.25      5483\n",
      "\n",
      "    accuracy                           0.85     63959\n",
      "   macro avg       0.57      0.60      0.58     63959\n",
      "weighted avg       0.87      0.85      0.86     63959\n",
      "\n"
     ]
    }
   ],
   "source": [
    "y_pred_dt_smote = model_dt_cv_smote.predict(X_test)\n",
    "print(\"Classification Report for SMOTE: \\n\", classification_report(y_test, y_pred_dt_smote))"
   ]
  },
  {
   "cell_type": "code",
   "execution_count": 36,
   "id": "dfe31c8b",
   "metadata": {
    "execution": {
     "iopub.execute_input": "2023-05-22T16:36:49.250511Z",
     "iopub.status.busy": "2023-05-22T16:36:49.249200Z",
     "iopub.status.idle": "2023-05-22T16:36:49.342205Z",
     "shell.execute_reply": "2023-05-22T16:36:49.340305Z"
    },
    "papermill": {
     "duration": 0.139543,
     "end_time": "2023-05-22T16:36:49.344708",
     "exception": false,
     "start_time": "2023-05-22T16:36:49.205165",
     "status": "completed"
    },
    "tags": []
   },
   "outputs": [
    {
     "name": "stdout",
     "output_type": "stream",
     "text": [
      "Classification Report for SMOTE2: \n",
      "               precision    recall  f1-score   support\n",
      "\n",
      "           0       0.93      0.90      0.92     58457\n",
      "           1       0.21      0.28      0.24      5502\n",
      "\n",
      "    accuracy                           0.85     63959\n",
      "   macro avg       0.57      0.59      0.58     63959\n",
      "weighted avg       0.87      0.85      0.86     63959\n",
      "\n"
     ]
    }
   ],
   "source": [
    "y_pred_dt_smote_new = model_dt_cv_smote_new.predict(X_test_new)\n",
    "print(\"Classification Report for SMOTE2: \\n\", classification_report(y_test_new, y_pred_dt_smote_new))"
   ]
  },
  {
   "cell_type": "code",
   "execution_count": 37,
   "id": "33d8f907",
   "metadata": {
    "execution": {
     "iopub.execute_input": "2023-05-22T16:36:49.502721Z",
     "iopub.status.busy": "2023-05-22T16:36:49.502183Z",
     "iopub.status.idle": "2023-05-22T16:36:49.619907Z",
     "shell.execute_reply": "2023-05-22T16:36:49.617953Z"
    },
    "papermill": {
     "duration": 0.208812,
     "end_time": "2023-05-22T16:36:49.622555",
     "exception": false,
     "start_time": "2023-05-22T16:36:49.413743",
     "status": "completed"
    },
    "tags": []
   },
   "outputs": [
    {
     "name": "stdout",
     "output_type": "stream",
     "text": [
      "Classification Report for NearMiss: \n",
      "               precision    recall  f1-score   support\n",
      "\n",
      "           0       0.92      0.41      0.56     58476\n",
      "           1       0.09      0.61      0.15      5483\n",
      "\n",
      "    accuracy                           0.43     63959\n",
      "   macro avg       0.50      0.51      0.36     63959\n",
      "weighted avg       0.85      0.43      0.53     63959\n",
      "\n"
     ]
    }
   ],
   "source": [
    "y_pred_dt_nearmiss = model_dt_cv_nearmiss.predict(X_test)\n",
    "print(\"Classification Report for NearMiss: \\n\", classification_report(y_test, y_pred_dt_nearmiss))"
   ]
  },
  {
   "cell_type": "code",
   "execution_count": 38,
   "id": "eff5d327",
   "metadata": {
    "execution": {
     "iopub.execute_input": "2023-05-22T16:36:49.713429Z",
     "iopub.status.busy": "2023-05-22T16:36:49.712340Z",
     "iopub.status.idle": "2023-05-22T16:36:49.810764Z",
     "shell.execute_reply": "2023-05-22T16:36:49.808930Z"
    },
    "papermill": {
     "duration": 0.146163,
     "end_time": "2023-05-22T16:36:49.813462",
     "exception": false,
     "start_time": "2023-05-22T16:36:49.667299",
     "status": "completed"
    },
    "tags": []
   },
   "outputs": [
    {
     "name": "stdout",
     "output_type": "stream",
     "text": [
      "Classification Report for NearMiss2: \n",
      "               precision    recall  f1-score   support\n",
      "\n",
      "           0       0.92      0.39      0.55     58457\n",
      "           1       0.09      0.62      0.15      5502\n",
      "\n",
      "    accuracy                           0.41     63959\n",
      "   macro avg       0.50      0.51      0.35     63959\n",
      "weighted avg       0.84      0.41      0.52     63959\n",
      "\n"
     ]
    }
   ],
   "source": [
    "y_pred_dt_nearmiss_new = model_dt_cv_nearmiss_new.predict(X_test_new)\n",
    "print(\"Classification Report for NearMiss2: \\n\", classification_report(y_test_new, y_pred_dt_nearmiss_new))"
   ]
  },
  {
   "cell_type": "code",
   "execution_count": 39,
   "id": "9414e905",
   "metadata": {
    "execution": {
     "iopub.execute_input": "2023-05-22T16:36:50.007358Z",
     "iopub.status.busy": "2023-05-22T16:36:50.006090Z",
     "iopub.status.idle": "2023-05-22T16:36:51.331347Z",
     "shell.execute_reply": "2023-05-22T16:36:51.330280Z"
    },
    "papermill": {
     "duration": 1.381068,
     "end_time": "2023-05-22T16:36:51.334075",
     "exception": false,
     "start_time": "2023-05-22T16:36:49.953007",
     "status": "completed"
    },
    "tags": []
   },
   "outputs": [
    {
     "data": {
      "image/png": "[encoded data removed]",
      "text/plain": [
       "<Figure size 1000x400 with 8 Axes>"
      ]
     },
     "metadata": {},
     "output_type": "display_data"
    }
   ],
   "source": [
    "%matplotlib inline\n",
    "import seaborn as sn\n",
    "import matplotlib.pyplot as plt\n",
    "from sklearn.metrics import confusion_matrix\n",
    "\n",
    "cm_dt_smote = confusion_matrix(y_test,y_pred_dt_smote) \n",
    "cm_dt_nearmiss = confusion_matrix(y_test,y_pred_dt_nearmiss) \n",
    "cm_dt_smote_new = confusion_matrix(y_test_new,y_pred_dt_smote_new) \n",
    "cm_dt_nearmiss_new = confusion_matrix(y_test_new,y_pred_dt_nearmiss_new) \n",
    "\n",
    "def plot_confusion_matrix(ax, cm, title='Confusion matrix', cmap='viridis'):\n",
    "    sn.heatmap(cm, annot=True, linewidths=0.8, fmt='d', cmap=cmap, ax=ax)\n",
    "    ax.set_xlabel('Predicted',fontsize=16)\n",
    "    ax.set_ylabel('Truth',fontsize=16)\n",
    "    ax.set_title(title,fontsize=16)\n",
    "\n",
    "fig, axs = plt.subplots(2,2, figsize=(10,4))\n",
    "\n",
    "plot_confusion_matrix(axs[0,0], cm_dt_smote, title='Decision Tree with SMOTE')\n",
    "plot_confusion_matrix(axs[0,1], cm_dt_nearmiss, title='SMOTE + New Encoding Method')\n",
    "plot_confusion_matrix(axs[1,0], cm_dt_smote_new, title='Decision Tree with NearMiss')\n",
    "plot_confusion_matrix(axs[1,1], cm_dt_nearmiss_new, title='NearMiss + New Encoding Method')\n",
    "\n",
    "plt.tight_layout()\n",
    "plt.show()\n"
   ]
  },
  {
   "cell_type": "code",
   "execution_count": 40,
   "id": "d57c67ac",
   "metadata": {
    "execution": {
     "iopub.execute_input": "2023-05-22T16:36:51.514708Z",
     "iopub.status.busy": "2023-05-22T16:36:51.514325Z",
     "iopub.status.idle": "2023-05-22T16:36:51.523028Z",
     "shell.execute_reply": "2023-05-22T16:36:51.521926Z"
    },
    "papermill": {
     "duration": 0.056923,
     "end_time": "2023-05-22T16:36:51.525296",
     "exception": false,
     "start_time": "2023-05-22T16:36:51.468373",
     "status": "completed"
    },
    "tags": []
   },
   "outputs": [],
   "source": [
    "from sklearn.metrics import roc_curve, auc\n",
    "\n",
    "def plot_roc_auc(ax, model_cv, X_test, y_test, label): \n",
    "    y_score_model = model_cv.predict_proba(X_test) \n",
    "    yes_probs = y_score_model[:,1] \n",
    "\n",
    "    fpr_model, tpr_model, _ = roc_curve(y_test, yes_probs)\n",
    "\n",
    "    auc_model = auc(fpr_model, tpr_model)\n",
    "\n",
    "    ax.plot([0,1],[0,1], linestyle='--', label='No Skill')\n",
    "\n",
    "    label = f'{label} (auc={auc_model:.3f})'\n",
    "    ax.plot(fpr_model, tpr_model, marker='_', label=label, color='red')\n",
    "\n",
    "    ax.set_xlabel(\"False Positive Rate\")\n",
    "\n",
    "    ax.set_ylabel(\"True Positive Rate\")\n",
    "\n",
    "    ax.legend()\n"
   ]
  },
  {
   "cell_type": "code",
   "execution_count": 41,
   "id": "50c31448",
   "metadata": {
    "execution": {
     "iopub.execute_input": "2023-05-22T16:36:51.616477Z",
     "iopub.status.busy": "2023-05-22T16:36:51.615378Z",
     "iopub.status.idle": "2023-05-22T16:36:52.419357Z",
     "shell.execute_reply": "2023-05-22T16:36:52.418335Z"
    },
    "papermill": {
     "duration": 0.852277,
     "end_time": "2023-05-22T16:36:52.421788",
     "exception": false,
     "start_time": "2023-05-22T16:36:51.569511",
     "status": "completed"
    },
    "tags": []
   },
   "outputs": [
    {
     "data": {
      "image/png": "[encoded data removed]",
      "text/plain": [
       "<Figure size 1200x800 with 4 Axes>"
      ]
     },
     "metadata": {},
     "output_type": "display_data"
    }
   ],
   "source": [
    "\n",
    "\n",
    "fig, axs = plt.subplots(2,2, figsize=(12,8))\n",
    "\n",
    "plot_roc_auc(axs[0,0], model_dt_cv_smote, X_test, y_test, label='Decision Tree with SMOTE')\n",
    "plot_roc_auc(axs[0,1], model_dt_cv_smote_new, X_test_new, y_test_new, label='SMOTE + New Encoding Method')\n",
    "plot_roc_auc(axs[1,0], model_dt_cv_nearmiss, X_test, y_test, label='Decision Tree with NearMiss')\n",
    "plot_roc_auc(axs[1,1], model_dt_cv_nearmiss_new, X_test_new, y_test_new, label='NearMiss + New Encoding Method')\n",
    "\n",
    "plt.tight_layout()\n",
    "plt.show()"
   ]
  }
 ],
 "metadata": {
  "kernelspec": {
   "display_name": "Python 3",
   "language": "python",
   "name": "python3"
  },
  "language_info": {
   "codemirror_mode": {
    "name": "ipython",
    "version": 3
   },
   "file_extension": ".py",
   "mimetype": "text/x-python",
   "name": "python",
   "nbconvert_exporter": "python",
   "pygments_lexer": "ipython3",
   "version": "3.11.4"
  },
  "papermill": {
   "default_parameters": {},
   "duration": 24541.137327,
   "end_time": "2023-05-22T23:18:10.191526",
   "environment_variables": {},
   "exception": null,
   "input_path": "__notebook__.ipynb",
   "output_path": "__notebook__.ipynb",
   "parameters": {},
   "start_time": "2023-05-22T16:29:09.054199",
   "version": "2.4.0"
  }
 },
 "nbformat": 4,
 "nbformat_minor": 5
}
